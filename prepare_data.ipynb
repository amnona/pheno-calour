{
 "cells": [
  {
   "cell_type": "markdown",
   "metadata": {},
   "source": [
    "# pheno-calour database creation\n",
    "## this notebook prepares the IJSEM_pheno_db.txt file for use with pheno-calour\n",
    "the original phenotype database is obtained from:\n",
    "\n",
    "[figshare](Phenotype database](https://doi.org/10.6084/m9.figshare.4272392)\n",
    "\n",
    "and is based on the paper:\n",
    "\n",
    "[Hiding in Plain Sight: Mining Bacterial Species Records for Phenotypic Trait Information](http://msphere.asm.org/content/2/4/e00237-17)\n",
    "\n",
    "Albert Barberán, Hildamarie Caceres Velazquez, Stuart Jones, Noah Fierer\n",
    "\n",
    "DOI: 10.1128/mSphere.00237-17\n",
    "\n",
    "## steps\n",
    "1. convert the .txt file to utf8\n",
    "2. retreive from entrez/nucleotide the sequence corresponding toe each phenotype accession and obtain the desired (V4 - primer 515F) region\n",
    "3. save to tsv text file with the sequence"
   ]
  },
  {
   "cell_type": "code",
   "execution_count": 58,
   "metadata": {
    "collapsed": true
   },
   "outputs": [],
   "source": [
    "import prepdata"
   ]
  },
  {
   "cell_type": "markdown",
   "metadata": {},
   "source": [
    "## 1. Convert to utf-8"
   ]
  },
  {
   "cell_type": "code",
   "execution_count": 59,
   "metadata": {
    "collapsed": true
   },
   "outputs": [],
   "source": [
    "prepdata.to_utf8('./phenocalour/data/IJSEM_pheno_db_v1.0.txt','./phenocalour/data/IJSEM_pheno_db_v1.0.utf8.txt')"
   ]
  },
  {
   "cell_type": "markdown",
   "metadata": {},
   "source": [
    "## 2. Add sequence for each annotation"
   ]
  },
  {
   "cell_type": "code",
   "execution_count": null,
   "metadata": {
    "collapsed": true
   },
   "outputs": [],
   "source": [
    "res=prepdata.import_data('./phenocalour/data/IJSEM_pheno_db_v1.0.utf8.txt')"
   ]
  },
  {
   "cell_type": "markdown",
   "metadata": {},
   "source": [
    "## 3. Export to .tsv file"
   ]
  },
  {
   "cell_type": "code",
   "execution_count": 75,
   "metadata": {},
   "outputs": [
    {
     "name": "stdout",
     "output_type": "stream",
     "text": [
      "saving to file sdict.txt\n",
      "found 30 columns\n",
      "wrote 3395 seqs\n"
     ]
    }
   ],
   "source": [
    "prepdata.export_data(res,'./phenocalour/data/pheno-calour-data.txt')"
   ]
  },
  {
   "cell_type": "code",
   "execution_count": null,
   "metadata": {
    "collapsed": true
   },
   "outputs": [],
   "source": []
  }
 ],
 "metadata": {
  "kernelspec": {
   "display_name": "Python 3",
   "language": "python",
   "name": "python3"
  },
  "language_info": {
   "codemirror_mode": {
    "name": "ipython",
    "version": 3
   },
   "file_extension": ".py",
   "mimetype": "text/x-python",
   "name": "python",
   "nbconvert_exporter": "python",
   "pygments_lexer": "ipython3",
   "version": "3.5.3"
  }
 },
 "nbformat": 4,
 "nbformat_minor": 2
}
